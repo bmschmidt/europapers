{
 "cells": [
  {
   "cell_type": "code",
   "execution_count": 1,
   "id": "26ad0901-d879-4816-b883-d580ba2ba164",
   "metadata": {},
   "outputs": [],
   "source": [
    "from pyarrow import parquet as pq\n",
    "from pyarrow import json as pajson\n",
    "import pyarrow as pa\n",
    "from pathlib import Path\n",
    "from pyarrow import compute as pc\n"
   ]
  },
  {
   "cell_type": "code",
   "execution_count": 2,
   "id": "1ef1dc06-f1fe-4140-b041-1ffb81bd5d6a",
   "metadata": {},
   "outputs": [
    {
     "data": {
      "text/plain": [
       "438"
      ]
     },
     "execution_count": 2,
     "metadata": {},
     "output_type": "execute_result"
    }
   ],
   "source": [
    "len(set([*map(lambda x: x.rsplit(\"/\", 1)[0], pq.read_table(\"parquet_files/1010000.parquet\")['ids'].to_pylist())]))"
   ]
  },
  {
   "cell_type": "code",
   "execution_count": 3,
   "id": "05fe2dd2-b680-4315-a801-0bbafa657ef4",
   "metadata": {},
   "outputs": [
    {
     "data": {
      "text/plain": [
       "328"
      ]
     },
     "execution_count": 3,
     "metadata": {},
     "output_type": "execute_result"
    }
   ],
   "source": [
    "len([*Path(\"parquet_files/\").glob(\"*.parquet\")])"
   ]
  },
  {
   "cell_type": "code",
   "execution_count": 4,
   "id": "fff0f2c1-c1b8-476c-ab4f-c957a43f0c7f",
   "metadata": {},
   "outputs": [],
   "source": [
    "for p in Path(\"parquet_files/\").glob(\"*.parquet\"):\n",
    "    f = pq.read_table(p)\n",
    "    break"
   ]
  },
  {
   "cell_type": "code",
   "execution_count": 5,
   "id": "a8558dfa-f006-44d4-9e5d-95cfde1d1b28",
   "metadata": {},
   "outputs": [],
   "source": [
    "pq.write_table(f, \"test0.parquet\", compression=\"zstd\", compression_level=5)\n",
    "pq.write_table(f.sort_by(\"ids\"), \"test1.parquet\", compression=\"zstd\", compression_level=5)"
   ]
  },
  {
   "cell_type": "code",
   "execution_count": 6,
   "id": "69c3cceb-93b4-4240-82b1-da5f46abd21f",
   "metadata": {},
   "outputs": [
    {
     "name": "stdout",
     "output_type": "stream",
     "text": [
      "-rw-r--r--  1 benschmidt  staff  22267452 Apr 20 00:33 test0.parquet\n",
      "-rw-r--r--  1 benschmidt  staff  22265343 Apr 20 00:33 test1.parquet\n"
     ]
    }
   ],
   "source": [
    "ls -lS test*.parquet"
   ]
  },
  {
   "cell_type": "code",
   "execution_count": null,
   "id": "c3882c23-010c-4014-94d1-fc1f04246ba0",
   "metadata": {},
   "outputs": [],
   "source": []
  },
  {
   "cell_type": "code",
   "execution_count": 8,
   "id": "b77be3f7-cc53-4afa-acca-97f2071748de",
   "metadata": {},
   "outputs": [],
   "source": [
    "meta = pajson.read_json(\"metadata/all.json\")\n",
    "papers = pc.extract_regex(meta['dc:title'], \"(?P<match>.*) - \").flatten()[0]\n",
    "meta = meta.append_column(\"newspaper\", papers)"
   ]
  },
  {
   "cell_type": "code",
   "execution_count": 9,
   "id": "62b0f7b2-80a2-4f21-a1a4-e911b01c12c3",
   "metadata": {},
   "outputs": [],
   "source": [
    "#matches['@id']\n",
    "import polars as pl\n",
    "parq = Path(\"parquet_files/10000.parquet\")\n"
   ]
  },
  {
   "cell_type": "code",
   "execution_count": 64,
   "id": "094afaf2-3421-4e23-85ae-c7cc96b02e18",
   "metadata": {},
   "outputs": [
    {
     "data": {
      "text/plain": [
       "pyarrow.Table\n",
       "dc:identifier: string\n",
       "dc:language: string\n",
       "dc:source: string\n",
       "dc:subject: string\n",
       "dc:title: string\n",
       "dc:type: string\n",
       "dc:extent: string\n",
       "dc:isPartOf: string\n",
       "dc:issued: string\n",
       "dc:spatial: string\n",
       "@id: string\n",
       "dc:relation: string\n",
       "dc:hasPart: string\n",
       "newspaper: string\n",
       "----\n",
       "dc:identifier: [[\"http://data.theeuropeanlibrary.org/BibliographicResource/3000118999474\"]]\n",
       "dc:language: [[\"deu\"]]\n",
       "dc:source: [[null]]\n",
       "dc:subject: [[\"http://d-nb.info/gnd/4018202-2\"]]\n",
       "dc:title: [[\"Frauenblätter\"]]\n",
       "dc:type: [[\"http://data.europeana.eu/concept/base/18\"]]\n",
       "dc:extent: [[null]]\n",
       "dc:isPartOf: [[\"http://data.theeuropeanlibrary.org/Collection/a0600\"]]\n",
       "dc:issued: [[\"1871-12-16 - 1872-12-15\"]]\n",
       "dc:spatial: [[\"http://d-nb.info/gnd/4021912-4\"]]\n",
       "..."
      ]
     },
     "execution_count": 64,
     "metadata": {},
     "output_type": "execute_result"
    }
   ],
   "source": []
  },
  {
   "cell_type": "code",
   "execution_count": 76,
   "id": "70e54271-dfe0-4fbc-ab6f-0997840630b7",
   "metadata": {},
   "outputs": [
    {
     "name": "stdout",
     "output_type": "stream",
     "text": [
      "parquet_files/805000.parquett\r"
     ]
    }
   ],
   "source": [
    "for parq in Path(\"parquet_files/\").glob(\"*.parquet\"):\n",
    "    print(parq, end = \"\\r\")\n",
    "    ids = pq.read_table(parq, columns = ['ids', 'pages'])\n",
    "    paper_ids = pc.replace_substring_regex(ids['ids'], \"/[\\d]+$\", \"\")\n",
    "    pages = pc.replace_substring_regex(ids['ids'], \".*/([\\d]+)$\", r\"\\1\").cast(pa.int32())\n",
    "    all_data = pa.table([*ids, paper_ids, pages], names = ['@id', 'nc:text', 'newspaper_id', 'page'])\n",
    "    meta_arrow = pl.from_arrow(meta)\n",
    "    plarrow = pl.from_arrow(all_data).join(meta_arrow, left_on=['newspaper_id'], right_on = ['@id'])\n",
    "    plarrow = plarrow.drop('dc:issued').with_column(plarrow['dc:issued'].str.strptime(pl.Date, \"%Y-%m-%d\"))\n",
    "    joint = plarrow.to_arrow()\n",
    "\n",
    "    for paper in pc.unique(joint['newspaper']):\n",
    "        fout = Path(f\"./papers/{paper}/{parq.stem}.parquet\")\n",
    "        Path(fout).parent.mkdir(exist_ok=True, parents = True)\n",
    "        Path(fout).touch()\n",
    "        matches = joint.filter(pc.equal(joint['newspaper'], paper))\n",
    "        if len(matches):\n",
    "            pq.write_table(matches, fout)\n",
    "    #    print(group)"
   ]
  },
  {
   "cell_type": "code",
   "execution_count": null,
   "id": "28f0d344-5adc-4f07-9722-d1fdb239ac91",
   "metadata": {},
   "outputs": [],
   "source": []
  },
  {
   "cell_type": "code",
   "execution_count": 77,
   "id": "104f8f45-79b8-4c07-a7d0-2536eca5cd98",
   "metadata": {},
   "outputs": [
    {
     "name": "stdout",
     "output_type": "stream",
     "text": [
      "papers/Österreichische Buchdrucker-Zeitung.parquetchen Kaiserstaat.parquetē, philologikē te emporikē ephēmeris\r"
     ]
    }
   ],
   "source": [
    "for folder in Path(\"papers\").glob(\"*\"):\n",
    "    print(folder, end = \"\\r\")\n",
    "    tables = []\n",
    "    for p in folder.glob(\"*.parquet\"):\n",
    "        tables.append(pq.read_table(p))\n",
    "        p.unlink()\n",
    "    if len(tables) == 0:\n",
    "        continue\n",
    "    tabs = pa.concat_tables(tables)\n",
    "    folder.with_suffix(\".parquet\").touch()\n",
    "    pq.write_table(tabs.sort_by('dc:issued'), folder.with_suffix(\".parquet\"), compression = \"zstd\", compression_level=10)\n",
    "    folder.rmdir()\n"
   ]
  },
  {
   "cell_type": "code",
   "execution_count": 145,
   "id": "c9092c8a-a6d1-44cd-9632-2411d4198368",
   "metadata": {},
   "outputs": [
    {
     "name": "stdout",
     "output_type": "stream",
     "text": [
      "papers/Wiener Zeitung.parquet\n",
      "13\n",
      "papers/Klagenfurter Zeitung.parquet\n",
      "3\n",
      "papers/Neue Freie Presse.parquet\n",
      "4\n",
      "papers/Neues Fremden-Blatt.parquet\n",
      "3\n",
      "papers/Die Presse.parquet\n",
      "6\n",
      "papers/Das Vaterland.parquet\n",
      "3\n",
      "papers/Morgen-Post.parquet\n",
      "3\n",
      "papers/Fremden-Blatt.parquet\n",
      "4\n"
     ]
    }
   ],
   "source": [
    "for p in Path(\"papers\").glob(\"*.parquet\"):\n",
    "    size = p.stat().st_size / 1024 / 1024\n",
    "    if size > 100:\n",
    "        print(p)\n",
    "        r = pq.read_table(p)\n",
    "        n_chunks = int((size // 100) + 1)\n",
    "        #nb relies on being sorted by date; must include \n",
    "        cutoffs = [r['dc:issued'][i * int(len(r) // n_chunks)] for i in range(n_chunks)]\n",
    "        cutoffs.append(r['dc:issued'][len(r) - 1])\n",
    "        print(len(cutoffs))\n",
    "        for i in range(len(cutoffs) - 1):\n",
    "            dates = f\"{cutoffs[i].as_py()}--{cutoffs[i + 1].as_py()}\"\n",
    "            fout = str(p.with_suffix(\"\")) + f\"-{dates}.parquet\"\n",
    "            d = r['dc:issued']\n",
    "            less = pc.less\n",
    "            if i == len(cutoffs) - 1:\n",
    "                less = pc.less_equal # Last chunk must include last date.\n",
    "            subset = r.filter(pc.and_(pc.greater_equal(d, cutoffs[i]), less(d, cutoffs[i + 1])))\n",
    "            Path(fout).touch()\n",
    "            pq.write_table(subset, fout, compression = \"zstd\", compression_level = 10)\n"
   ]
  },
  {
   "cell_type": "code",
   "execution_count": 139,
   "id": "738a9a41-a446-4f3b-acda-e40d62f7f3a6",
   "metadata": {},
   "outputs": [],
   "source": [
    "p = Path(\"papers/Wiener Zeitung.parquet\")\n",
    "\n",
    "for i in range(len(cutoffs) - 1):\n",
    "    cutoffs = [r['dc:issued'][i * int(len(r) // (size // 100))] for i in range(int(size // 100))]\n",
    "    cutoffs.append(r['dc:issued'][len(r) - 1])\n",
    "    dates = f\"{cutoffs[i].as_py()}--{cutoffs[i + 1].as_py()}\"\n",
    "    fout = str(p.with_suffix(\"\")) + f\"-{dates}.parquet\"\n",
    "    d = r['dc:issued']\n",
    "    less = pc.less\n",
    "    if i == len(cutoffs) - 1:\n",
    "        less = pc.less_equal\n",
    "    subset = r.filter(pc.and_(pc.greater_equal(d, cutoffs[i]), less(d, cutoffs[i + 1])))\n",
    "    Path(fout).touch()\n",
    "    pq.write_table(subset, fout)\n"
   ]
  },
  {
   "cell_type": "code",
   "execution_count": 142,
   "id": "df111f82-5eb9-4c1a-9b03-e01d8c7cda3e",
   "metadata": {},
   "outputs": [
    {
     "data": {
      "text/plain": [
       "[<pyarrow.Date32Scalar: datetime.date(1847, 7, 2)>,\n",
       " <pyarrow.Date32Scalar: datetime.date(1853, 12, 21)>,\n",
       " <pyarrow.Date32Scalar: datetime.date(1857, 5, 12)>,\n",
       " <pyarrow.Date32Scalar: datetime.date(1860, 1, 11)>,\n",
       " <pyarrow.Date32Scalar: datetime.date(1862, 4, 18)>,\n",
       " <pyarrow.Date32Scalar: datetime.date(1864, 3, 13)>,\n",
       " <pyarrow.Date32Scalar: datetime.date(1866, 1, 5)>,\n",
       " <pyarrow.Date32Scalar: datetime.date(1867, 8, 5)>,\n",
       " <pyarrow.Date32Scalar: datetime.date(1869, 4, 18)>,\n",
       " <pyarrow.Date32Scalar: datetime.date(1870, 9, 28)>,\n",
       " <pyarrow.Date32Scalar: datetime.date(1872, 3, 3)>]"
      ]
     },
     "execution_count": 142,
     "metadata": {},
     "output_type": "execute_result"
    }
   ],
   "source": [
    "size = p.stat().st_size / 1024 / 1024\n",
    "p.stat().st_size / 1024 / 1024\n",
    "cutoffs = [r['dc:issued'][i * int(len(r) // (size // 100))] for i in range(int(size // 100))]\n",
    "cutoffs"
   ]
  },
  {
   "cell_type": "code",
   "execution_count": 121,
   "id": "ee30a055-02c3-4d45-a115-f6f73f61f3a7",
   "metadata": {},
   "outputs": [],
   "source": [
    "i = 0"
   ]
  },
  {
   "cell_type": "code",
   "execution_count": 152,
   "id": "8574cb71-ec31-462d-a959-e6efb1282fcb",
   "metadata": {},
   "outputs": [
    {
     "data": {
      "text/plain": [
       "<pyarrow.lib.StructArray object at 0x1108bd900>\n",
       "-- is_valid: all not null\n",
       "-- child 0 type: string\n",
       "  [\n",
       "    \"foo\"\n",
       "  ]\n",
       "-- child 1 type: string\n",
       "  [\n",
       "    \"foo\"\n",
       "  ]"
      ]
     },
     "execution_count": 152,
     "metadata": {},
     "output_type": "execute_result"
    }
   ],
   "source": [
    "pc.extract_regex(pa.array([\"foo bar, is the thing\"]), r\"(?P<words>(?P<word>\\w+)+)\")"
   ]
  },
  {
   "cell_type": "code",
   "execution_count": null,
   "id": "fdbd6b32-b6d6-41a1-bef2-ee5519be1f28",
   "metadata": {},
   "outputs": [],
   "source": []
  }
 ],
 "metadata": {
  "kernelspec": {
   "display_name": "Python 3 (ipykernel)",
   "language": "python",
   "name": "python3"
  },
  "language_info": {
   "codemirror_mode": {
    "name": "ipython",
    "version": 3
   },
   "file_extension": ".py",
   "mimetype": "text/x-python",
   "name": "python",
   "nbconvert_exporter": "python",
   "pygments_lexer": "ipython3",
   "version": "3.10.0"
  }
 },
 "nbformat": 4,
 "nbformat_minor": 5
}
