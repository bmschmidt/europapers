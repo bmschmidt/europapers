{
 "cells": [
  {
   "cell_type": "code",
   "execution_count": null,
   "id": "54a885ae-7eca-4cec-b9df-5b5bb52bd839",
   "metadata": {},
   "outputs": [],
   "source": [
    "from api_key import api_key"
   ]
  },
  {
   "cell_type": "code",
   "execution_count": null,
   "id": "51d39e69-0777-46bc-93e4-6506b9b6fa42",
   "metadata": {},
   "outputs": [],
   "source": [
    "api_key"
   ]
  },
  {
   "cell_type": "code",
   "execution_count": null,
   "id": "4df5f50f-3059-4311-8687-50ebbd8b8f2f",
   "metadata": {},
   "outputs": [],
   "source": [
    "import requests"
   ]
  },
  {
   "cell_type": "code",
   "execution_count": null,
   "id": "32b18e04-d8dd-4816-a69e-14550a7694fb",
   "metadata": {},
   "outputs": [],
   "source": []
  },
  {
   "cell_type": "code",
   "execution_count": null,
   "id": "c2eab2d8-4a33-4a05-a754-e523debe2ab2",
   "metadata": {},
   "outputs": [],
   "source": []
  },
  {
   "cell_type": "code",
   "execution_count": null,
   "id": "0acc146f-7b57-4593-8088-e5a2b0edb8af",
   "metadata": {},
   "outputs": [],
   "source": [
    "r = f'http://www.europeana.eu/api/v2/search.json?wskey={api_key}&query=europeana_collectionName=\"9200300_Ag_EU_TEL_a0600_Newspapers_ONB\"'\n",
    "requests.get(r).content"
   ]
  },
  {
   "cell_type": "code",
   "execution_count": null,
   "id": "004147b4-703e-42ab-a796-70698f9e8160",
   "metadata": {},
   "outputs": [],
   "source": [
    "r = f'http://www.europeana.eu/api/v2/item/'"
   ]
  },
  {
   "cell_type": "code",
   "execution_count": null,
   "id": "202844d7-48ba-42f1-bc1e-3f319c4d43c9",
   "metadata": {},
   "outputs": [],
   "source": [
    "id = '9200300/BibliographicResource_3000123565676'\n",
    "id = '9200300/BibliographicResource_3000095610170'\n",
    "r = f'https://api.europeana.eu/record/v2/{id}.json?wskey={api_key}'\n",
    "d = requests.get(r).json()['object']['proxies'][1]"
   ]
  },
  {
   "cell_type": "code",
   "execution_count": null,
   "id": "125237c9-e127-4c00-a675-ce82852fbe28",
   "metadata": {},
   "outputs": [],
   "source": [
    "!jq -cr '.dcTitle' newspapers.ndjson | tail"
   ]
  },
  {
   "cell_type": "code",
   "execution_count": null,
   "id": "8061494a-8c0b-4a91-ae35-1b149b84f159",
   "metadata": {},
   "outputs": [],
   "source": [
    "def simplify(obj, key = None):\n",
    "    if not type(obj) == dict:\n",
    "        return obj\n",
    "#    if 'europeanaProxy' in obj:        \n",
    "#        return {k : simplify(val, key) for k, val in obj.items()}\n",
    "    r = {}\n",
    "    for k, v in obj.items():\n",
    "        if k == \"def\": \n",
    "            r[key] = simplify(obj[k], k)\n",
    "        else:\n",
    "            r[key + \"-\" + k] = simplify(obj[k], k)\n",
    "    return r\n",
    "def metadata_for(id):\n",
    "    r = f'https://api.europeana.eu/record/v2/{id}.json?wskey={api_key}'\n",
    "    d = requests.get(r).json()['object']['proxies'][1]\n",
    "    output = {}\n",
    "    for k, v in d.items():\n",
    "        item = simplify(v, k)\n",
    "        if type(item) == dict:\n",
    "            for k2, v2 in item.items():\n",
    "                output[k2] = v2\n",
    "        else:\n",
    "            output[k] = item\n",
    "    return output\n"
   ]
  },
  {
   "cell_type": "code",
   "execution_count": null,
   "id": "a24391dc-96a5-4003-bec8-50a48c2d738f",
   "metadata": {},
   "outputs": [],
   "source": [
    "from pyarrow import parquet as pq\n",
    "from pathlib import Path\n",
    "import json\n",
    "from pyarrow import json as pajson\n",
    "import time\n",
    "seen = set(pajson.read_json(\"newspapers.ndjson\")['id'].to_pylist())\n",
    "\n",
    "print(len(seen), \"seen\")\n",
    "for p in Path(\"parquet_files/\").glob(\"*.parquet\"):\n",
    "    break\n",
    "    fin = pq.read_table(p, columns = ['ids'])\n",
    "    ids = set([*map(lambda x: x.rsplit(\"/\", 1)[0], fin['ids'].to_pylist())])\n",
    "    with open(\"newspapers.ndjson\", \"a\") as fout:\n",
    "        for i, id in enumerate(ids):\n",
    "            if id in seen:\n",
    "                continue\n",
    "            print(f\"{i} - {id}\", end = \"\\r\")\n",
    "            try:\n",
    "                r = metadata_for(id)\n",
    "            except:\n",
    "                time.sleep(1)\n",
    "                continue\n",
    "                \n",
    "            r['id'] = id\n",
    "            fout.write(json.dumps(r) + \"\\n\")\n"
   ]
  },
  {
   "cell_type": "code",
   "execution_count": 4,
   "id": "d8b9617b-65e6-40b5-8633-3f0c34261a2c",
   "metadata": {},
   "outputs": [
    {
     "data": {
      "text/plain": [
       "147652"
      ]
     },
     "execution_count": 4,
     "metadata": {},
     "output_type": "execute_result"
    }
   ],
   "source": [
    "len(f.filelist)"
   ]
  },
  {
   "cell_type": "code",
   "execution_count": null,
   "id": "82ec4fb5-eae0-4885-890f-2cc88dddcef8",
   "metadata": {},
   "outputs": [],
   "source": [
    "import zipfile\n",
    "f = zipfile.ZipFile(\"9200300.zip\")"
   ]
  },
  {
   "cell_type": "code",
   "execution_count": 30,
   "id": "2a34f987-e1ef-4686-8b0b-9a929316f331",
   "metadata": {},
   "outputs": [
    {
     "data": {
      "text/plain": [
       "dict_keys(['@id', '@type', 'http://purl.org/dc/elements/1.1/identifier', 'http://purl.org/dc/elements/1.1/language', 'http://purl.org/dc/elements/1.1/source', 'http://purl.org/dc/elements/1.1/subject', 'http://purl.org/dc/elements/1.1/title', 'http://purl.org/dc/elements/1.1/type', 'http://purl.org/dc/terms/extent', 'http://purl.org/dc/terms/isPartOf', 'http://purl.org/dc/terms/issued', 'http://purl.org/dc/terms/spatial', 'http://www.europeana.eu/schemas/edm/europeanaProxy', 'http://www.europeana.eu/schemas/edm/isNextInSequence', 'http://www.europeana.eu/schemas/edm/type', 'http://www.openarchives.org/ore/terms/proxyFor', 'http://www.openarchives.org/ore/terms/proxyIn'])"
      ]
     },
     "execution_count": 30,
     "metadata": {},
     "output_type": "execute_result"
    }
   ],
   "source": [
    "import json\n",
    "i = 1000\n",
    "demo = f.open(f.filelist[i]).read().decode(\"utf-8\")\n",
    "g = Graph().parse(data=demo, format=\"xml\") #<-took a while to figure this line out!\n",
    "d = g.serialize(format='json-ld', indent=0)\n",
    "proxies = [f for f in json.loads(d) if 'http://www.openarchives.org/ore/terms/Proxy' in f['@type']]\n",
    "proxies[0].keys()"
   ]
  },
  {
   "cell_type": "code",
   "execution_count": 11,
   "id": "47e416d6-105c-45d3-8ec1-0dd6cce54bd2",
   "metadata": {},
   "outputs": [
    {
     "data": {
      "text/plain": [
       "'BibliographicResource_3000116299792.xml'"
      ]
     },
     "execution_count": 11,
     "metadata": {},
     "output_type": "execute_result"
    }
   ],
   "source": [
    "import zipfile\n",
    "f = zipfile.ZipFile(\"9200300.zip\")\n",
    "def parse_row(d):\n",
    "    proxies = [f for f in json.loads(d) if 'http://www.openarchives.org/ore/terms/Proxy' in f['@type']]\n",
    "    out = {}\n",
    "    for k, v in proxies[1].items():\n",
    "        if \"purl.org/dc\" in k:\n",
    "            try:\n",
    "                out['dc:' + k.split(\"/\")[-1]] = v[0]['@value']\n",
    "            except KeyError:\n",
    "                out['dc:' + k.split(\"/\")[-1]] = v[0]['@id']\n",
    "    return out\n",
    "\n",
    "\"9200300\" + f.filelist[i].filename.replace(\".xml\", \"\")\n"
   ]
  },
  {
   "cell_type": "code",
   "execution_count": 3,
   "id": "25d08c86-e30b-4d24-aa42-8372c14b88e6",
   "metadata": {},
   "outputs": [],
   "source": [
    "\n",
    "#!pip install rdflib-jsonld\n",
    "\n",
    "from rdflib import Graph, plugin\n",
    "from rdflib.serializer import Serializer\n",
    "\n",
    "import gzip\n",
    "\n",
    "def write_chunk(start):\n",
    "    end = start + 25_000\n",
    "    dest = f\"{start}-{end}.json.gz\"\n",
    "\n",
    "    if dest.exists():\n",
    "        return\n",
    "    with gzip.open(dest, \"wt\") as fout:\n",
    "        for i in range(start, end):\n",
    "            print(i, end = \"\\r\")\n",
    "            demo = f.open(f.filelist[i]).read().decode(\"utf-8\")\n",
    "            g = Graph().parse(data=demo, format=\"xml\") #<-took a while to figure this line out!\n",
    "            d = g.serialize(format='json-ld', indent=0)\n",
    "            json.dump(parse_row(d), fout)\n",
    "            fout.write(\"\\n\")"
   ]
  },
  {
   "cell_type": "code",
   "execution_count": null,
   "id": "022db17b-d3fd-40b2-a977-b04fabbaa6e7",
   "metadata": {},
   "outputs": [],
   "source": []
  },
  {
   "cell_type": "code",
   "execution_count": null,
   "id": "059fd2d0-6974-4e8e-b1af-90496b1cdf11",
   "metadata": {},
   "outputs": [],
   "source": [
    "ls -lSh jsonld.gz"
   ]
  },
  {
   "cell_type": "code",
   "execution_count": null,
   "id": "8c4724ad-09f5-4424-ad6f-fbf090507fdc",
   "metadata": {},
   "outputs": [],
   "source": [
    "ls -lSh jsonld.gz"
   ]
  },
  {
   "cell_type": "code",
   "execution_count": null,
   "id": "a09c60b7-d804-4cc2-8a83-5c1fb05ec6a1",
   "metadata": {},
   "outputs": [],
   "source": [
    "from pyarrow import json as pajson\n",
    "pajson.read_json(\"jsonld.gz\")"
   ]
  },
  {
   "cell_type": "code",
   "execution_count": null,
   "id": "def9877c-dba7-4593-a2eb-aef7081defe5",
   "metadata": {},
   "outputs": [],
   "source": [
    "import xmltodict\n"
   ]
  },
  {
   "cell_type": "code",
   "execution_count": null,
   "id": "a7a3d628-3a52-4573-be41-3fe977e379df",
   "metadata": {},
   "outputs": [],
   "source": [
    "import rdflib\n",
    "g = rdflib.graph\n",
    "#rdflib.parse(f.open(\"BibliographicResource_3000116299792.xml\").read())\n",
    "g.pa"
   ]
  },
  {
   "cell_type": "code",
   "execution_count": null,
   "id": "2444aa0c-73f3-4fd7-a926-3ce04653edc0",
   "metadata": {},
   "outputs": [],
   "source": []
  },
  {
   "cell_type": "code",
   "execution_count": null,
   "id": "22d4f4d7-9e7d-4d00-b2b2-323b8298f8b5",
   "metadata": {},
   "outputs": [],
   "source": []
  }
 ],
 "metadata": {
  "kernelspec": {
   "display_name": "Python 3 (ipykernel)",
   "language": "python",
   "name": "python3"
  },
  "language_info": {
   "codemirror_mode": {
    "name": "ipython",
    "version": 3
   },
   "file_extension": ".py",
   "mimetype": "text/x-python",
   "name": "python",
   "nbconvert_exporter": "python",
   "pygments_lexer": "ipython3",
   "version": "3.10.0"
  }
 },
 "nbformat": 4,
 "nbformat_minor": 5
}
